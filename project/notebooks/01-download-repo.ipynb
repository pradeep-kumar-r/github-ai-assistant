{
 "cells": [
  {
   "cell_type": "markdown",
   "id": "927f67c3",
   "metadata": {},
   "source": [
    "# Parsing a single markdown file using frontmatter"
   ]
  },
  {
   "cell_type": "code",
   "execution_count": 2,
   "id": "11b7b447",
   "metadata": {},
   "outputs": [],
   "source": [
    "import frontmatter"
   ]
  },
  {
   "cell_type": "code",
   "execution_count": 3,
   "id": "65cab484",
   "metadata": {},
   "outputs": [],
   "source": [
    "with open('example.md', 'r', encoding='utf-8') as f:\n",
    "    post = frontmatter.load(f)"
   ]
  },
  {
   "cell_type": "code",
   "execution_count": 4,
   "id": "de7f21b5",
   "metadata": {},
   "outputs": [
    {
     "name": "stdout",
     "output_type": "stream",
     "text": [
      "Getting Started with AI\n",
      "['ai', 'machine-learning', 'tutorial']\n",
      "# Getting Started with AI\n",
      "This is the main content of the document written in **Markdown**.\n",
      "You can include code blocks, links, and other formatting here.\n"
     ]
    }
   ],
   "source": [
    "# Access metadata\n",
    "print(post.metadata['title'])\n",
    "print(post.metadata['tags'])\n",
    "\n",
    "# Access content\n",
    "print(post.content)"
   ]
  },
  {
   "cell_type": "markdown",
   "id": "910f56a1",
   "metadata": {},
   "source": [
    "# Importing and parsing git repos"
   ]
  },
  {
   "cell_type": "code",
   "execution_count": 5,
   "id": "f5b055a5",
   "metadata": {},
   "outputs": [],
   "source": [
    "import io\n",
    "import zipfile\n",
    "import requests\n",
    "import frontmatter"
   ]
  },
  {
   "cell_type": "code",
   "execution_count": 6,
   "id": "bfd6b61b",
   "metadata": {},
   "outputs": [],
   "source": [
    "url = 'https://codeload.github.com/DataTalksClub/faq/zip/refs/heads/main'\n",
    "resp = requests.get(url)"
   ]
  },
  {
   "cell_type": "code",
   "execution_count": 13,
   "id": "b480773a",
   "metadata": {},
   "outputs": [],
   "source": [
    "repository_data = []\n",
    "\n",
    "# Create a ZipFile object from the downloaded content\n",
    "zf = zipfile.ZipFile(io.BytesIO(resp.content))\n",
    "\n",
    "for file_info in zf.infolist():\n",
    "    filename = file_info.filename.lower()\n",
    "    \n",
    "    if not (filename.endswith('.md') or filename.endswith('.mdx')):\n",
    "        continue\n",
    "    \n",
    "    # Read and parse each file\n",
    "    with zf.open(file_info) as f_in:\n",
    "        content = f_in.read()\n",
    "        post = frontmatter.loads(content)\n",
    "    \n",
    "    data = post.to_dict()\n",
    "    data['filename'] = filename\n",
    "    repository_data.append(data)\n",
    "\n",
    "zf.close()"
   ]
  },
  {
   "cell_type": "code",
   "execution_count": 14,
   "id": "bff5414a",
   "metadata": {},
   "outputs": [
    {
     "data": {
      "text/plain": [
       "{'id': '9e508f2212',\n",
       " 'question': 'Course: When does the course start?',\n",
       " 'sort_order': 1,\n",
       " 'content': \"The next cohort starts January 13th, 2025. More info at [DTC](https://datatalks.club/blog/guide-to-free-online-courses-at-datatalks-club.html).\\n\\n- Register before the course starts using this [link](https://airtable.com/shr6oVXeQvSI5HuWD).\\n- Join the [course Telegram channel with announcements](https://t.me/dezoomcamp).\\n- Don’t forget to register in DataTalks.Club's Slack and join the channel.\",\n",
       " 'filename': 'faq-main/_questions/data-engineering-zoomcamp/general/001_9e508f2212_course-when-does-the-course-start.md'}"
      ]
     },
     "execution_count": 14,
     "metadata": {},
     "output_type": "execute_result"
    }
   ],
   "source": [
    "repository_data[1]"
   ]
  },
  {
   "cell_type": "code",
   "execution_count": 17,
   "id": "10a13826",
   "metadata": {},
   "outputs": [],
   "source": [
    "import io\n",
    "import zipfile\n",
    "import frontmatter\n",
    "import requests\n",
    "\n",
    "def read_repo_data(repo_owner, repo_name):\n",
    "    prefix = \"https://codeload.github.com\"\n",
    "    url = f\"{prefix}/{repo_owner}/{repo_name}/zip/refs/heads/main\"\n",
    "    \n",
    "    response = requests.get(url)\n",
    "    \n",
    "    if response.status_code != 200:\n",
    "        raise Exception(f\"Download failed: {response.status_code}\")\n",
    "    \n",
    "    repo_data = []\n",
    "    \n",
    "    zf = zipfile.ZipFile(io.BytesIO(response.content))\n",
    "    \n",
    "    for file_info in zf.infolist():\n",
    "        filename = file_info.filename.lower()\n",
    "        if filename.endswith(\".md\") or filename.endswith(\".mdx\"):\n",
    "            try:\n",
    "                with zf.open(file_info, \"r\") as file:\n",
    "                    content = file.read().decode(\"utf-8\", errors=\"ignore\")\n",
    "                data = frontmatter.loads(content).to_dict()\n",
    "                data[\"filename\"] = filename\n",
    "                repo_data.append(data)\n",
    "            except Exception as e:\n",
    "                print(f\"Failed to process {file_info.filename}: {e}\")\n",
    "    \n",
    "    zf.close()\n",
    "    return repo_data"
   ]
  },
  {
   "cell_type": "code",
   "execution_count": 18,
   "id": "82f52938",
   "metadata": {},
   "outputs": [
    {
     "name": "stdout",
     "output_type": "stream",
     "text": [
      "FAQ Docs: 1217\n",
      "Evidently Docs: 95\n"
     ]
    }
   ],
   "source": [
    "dtc_faq = read_repo_data('DataTalksClub', 'faq')\n",
    "evidently_docs = read_repo_data('evidentlyai', 'docs')\n",
    "\n",
    "print(f\"FAQ Docs: {len(dtc_faq)}\")\n",
    "print(f\"Evidently Docs: {len(evidently_docs)}\")"
   ]
  },
  {
   "cell_type": "code",
   "execution_count": null,
   "id": "9dd45e34",
   "metadata": {},
   "outputs": [],
   "source": []
  }
 ],
 "metadata": {
  "kernelspec": {
   "display_name": "Python 3 (ipykernel)",
   "language": "python",
   "name": "python3"
  },
  "language_info": {
   "codemirror_mode": {
    "name": "ipython",
    "version": 3
   },
   "file_extension": ".py",
   "mimetype": "text/x-python",
   "name": "python",
   "nbconvert_exporter": "python",
   "pygments_lexer": "ipython3",
   "version": "3.10.11"
  }
 },
 "nbformat": 4,
 "nbformat_minor": 5
}
